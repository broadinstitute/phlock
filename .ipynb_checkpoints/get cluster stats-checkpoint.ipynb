{
 "metadata": {
  "name": ""
 },
 "nbformat": 3,
 "nbformat_minor": 0,
 "worksheets": [
  {
   "cells": [
    {
     "cell_type": "code",
     "collapsed": false,
     "input": [],
     "language": "python",
     "metadata": {},
     "outputs": [],
     "prompt_number": 37
    },
    {
     "cell_type": "code",
     "collapsed": false,
     "input": [
      "import boto\n",
      "import collections\n",
      "import ConfigParser, os\n",
      "import boto.ec2\n",
      "\n",
      "config = ConfigParser.ConfigParser()\n",
      "config.read(os.path.expanduser('~/.starcluster/config'))\n",
      "\n",
      "AWS_ACCESS_KEY_ID = config.get(\"aws info\", \"AWS_ACCESS_KEY_ID\")\n",
      "AWS_SECRET_ACCESS_KEY = config.get(\"aws info\", \"AWS_SECRET_ACCESS_KEY\")\n",
      "c = boto.ec2.connection.EC2Connection(aws_access_key_id=AWS_ACCESS_KEY_ID, aws_secret_access_key=AWS_SECRET_ACCESS_KEY)"
     ],
     "language": "python",
     "metadata": {},
     "outputs": [],
     "prompt_number": 23
    },
    {
     "cell_type": "code",
     "collapsed": false,
     "input": [],
     "language": "python",
     "metadata": {},
     "outputs": [],
     "prompt_number": 29
    },
    {
     "cell_type": "code",
     "collapsed": false,
     "input": [
      "# get prices\n",
      "import datetime\n",
      "\n",
      "def isotodatetime(t):\n",
      "    if t.endswith(\"Z\"):\n",
      "        t=t[:-1]\n",
      "    return datetime.datetime.strptime( t, \"%Y-%m-%dT%H:%M:%S.%f\" )\n",
      "\n",
      "def get_price_series(instance_type, scale, zone=\"us-east-1a\"):\n",
      "    end_time = datetime.datetime.now()\n",
      "    start_time = end_time - datetime.timedelta(days=1)\n",
      "    \n",
      "    prices = c.get_spot_price_history(start_time=start_time.isoformat(), end_time=end_time.isoformat(), \n",
      "                             instance_type=instance_type, product_description=\"Linux/UNIX\", \n",
      "                             availability_zone=zone, max_results=None, next_token=None)\n",
      "    \n",
      "    return dict(data=[ dict(x=(isotodatetime(p.timestamp) - end_time).seconds/(60.0*60), y=p.price/scale) for p in prices ],\n",
      "                name=instance_type)\n",
      "\n",
      "print get_price_series(\"c3.large\", 1)\n"
     ],
     "language": "python",
     "metadata": {},
     "outputs": [
      {
       "output_type": "stream",
       "stream": "stdout",
       "text": [
        "{'data': [{'y': 0.0161, 'x': 11.673055555555555}, {'y': 0.0161, 'x': 11.628333333333334}], 'name': 'c3.large'}\n"
       ]
      }
     ],
     "prompt_number": 22
    },
    {
     "cell_type": "code",
     "collapsed": false,
     "input": [
      "td = (isotodatetime(p.timestamp) - end_time)\n",
      "float(td.seconds) / (60*60)"
     ],
     "language": "python",
     "metadata": {},
     "outputs": [
      {
       "metadata": {},
       "output_type": "pyout",
       "prompt_number": 19,
       "text": [
        "23.95388888888889"
       ]
      }
     ],
     "prompt_number": 19
    },
    {
     "cell_type": "code",
     "collapsed": false,
     "input": [
      "dinstances = c.get_only_instances()\n",
      "counts = collections.defaultdict(lambda: 0)\n",
      "for i in instances:\n",
      "    counts[i.instance_type] += 1\n",
      "\n",
      "print counts"
     ],
     "language": "python",
     "metadata": {},
     "outputs": [
      {
       "output_type": "stream",
       "stream": "stdout",
       "text": [
        "defaultdict(<function <lambda> at 0x108c401b8>, {})\n"
       ]
      }
     ],
     "prompt_number": 24
    },
    {
     "cell_type": "code",
     "collapsed": false,
     "input": [
      "i = dinstances[0]"
     ],
     "language": "python",
     "metadata": {},
     "outputs": [],
     "prompt_number": 25
    },
    {
     "cell_type": "code",
     "collapsed": false,
     "input": [
      "def find_instances_in_cluster(ec2, cluster_name):\n",
      "    instances = ec2.get_only_instances()\n",
      "    group_name = \"@sc-\"+cluster_name\n",
      "    return [ i for i in instances if group_name in [g.name for g in i.groups] ] \n",
      "\n",
      "def find_master(ec2, cluster_name):\n",
      "    instances = find_instances_in_cluster(ec2, cluster_name)\n",
      "    matches = [i for i in instances if \"Name\" in i.tags and i.tags[\"Name\"] == \"master\"]\n",
      "    if len(matches) == 0:\n",
      "        return None\n",
      "    if len(matches) == 1:\n",
      "        return matches[0]\n",
      "    raise Exception(\"Too many instances named master: %s\" % (matches,))"
     ],
     "language": "python",
     "metadata": {},
     "outputs": [],
     "prompt_number": 39
    },
    {
     "cell_type": "code",
     "collapsed": false,
     "input": [
      "insts = find_instances_in_cluster(c, \"c\")"
     ],
     "language": "python",
     "metadata": {},
     "outputs": [],
     "prompt_number": 40
    },
    {
     "cell_type": "code",
     "collapsed": false,
     "input": [
      "master = find_master(c, \"c\")"
     ],
     "language": "python",
     "metadata": {},
     "outputs": [],
     "prompt_number": 42
    },
    {
     "cell_type": "code",
     "collapsed": false,
     "input": [
      "print master.dns_name\n",
      "print master.key_name"
     ],
     "language": "python",
     "metadata": {},
     "outputs": [
      {
       "output_type": "stream",
       "stream": "stdout",
       "text": [
        "ec2-54-88-48-9.compute-1.amazonaws.com\n",
        "starclusterkey\n"
       ]
      }
     ],
     "prompt_number": 44
    },
    {
     "cell_type": "code",
     "collapsed": false,
     "input": [
      "i = instances[0]\n",
      "all_instances = []\n",
      "x.instances\n",
      "print [len(x.instances) for x in instances]"
     ],
     "language": "python",
     "metadata": {},
     "outputs": [
      {
       "ename": "IndexError",
       "evalue": "list index out of range",
       "output_type": "pyerr",
       "traceback": [
        "\u001b[0;31m---------------------------------------------------------------------------\u001b[0m\n\u001b[0;31mIndexError\u001b[0m                                Traceback (most recent call last)",
        "\u001b[0;32m<ipython-input-4-9ba2ceb2aa1a>\u001b[0m in \u001b[0;36m<module>\u001b[0;34m()\u001b[0m\n\u001b[0;32m----> 1\u001b[0;31m \u001b[0mi\u001b[0m \u001b[0;34m=\u001b[0m \u001b[0minstances\u001b[0m\u001b[0;34m[\u001b[0m\u001b[0;36m0\u001b[0m\u001b[0;34m]\u001b[0m\u001b[0;34m\u001b[0m\u001b[0m\n\u001b[0m\u001b[1;32m      2\u001b[0m \u001b[0mall_instances\u001b[0m \u001b[0;34m=\u001b[0m \u001b[0;34m[\u001b[0m\u001b[0;34m]\u001b[0m\u001b[0;34m\u001b[0m\u001b[0m\n\u001b[1;32m      3\u001b[0m \u001b[0mx\u001b[0m\u001b[0;34m.\u001b[0m\u001b[0minstances\u001b[0m\u001b[0;34m\u001b[0m\u001b[0m\n\u001b[1;32m      4\u001b[0m \u001b[0;32mprint\u001b[0m \u001b[0;34m[\u001b[0m\u001b[0mlen\u001b[0m\u001b[0;34m(\u001b[0m\u001b[0mx\u001b[0m\u001b[0;34m.\u001b[0m\u001b[0minstances\u001b[0m\u001b[0;34m)\u001b[0m \u001b[0;32mfor\u001b[0m \u001b[0mx\u001b[0m \u001b[0;32min\u001b[0m \u001b[0minstances\u001b[0m\u001b[0;34m]\u001b[0m\u001b[0;34m\u001b[0m\u001b[0m\n",
        "\u001b[0;31mIndexError\u001b[0m: list index out of range"
       ]
      }
     ],
     "prompt_number": 4
    },
    {
     "cell_type": "code",
     "collapsed": false,
     "input": [],
     "language": "python",
     "metadata": {},
     "outputs": [
      {
       "metadata": {},
       "output_type": "pyout",
       "prompt_number": 40,
       "text": [
        "[0.1309,\n",
        " 0.1298,\n",
        " 0.1299,\n",
        " 0.1305,\n",
        " 0.1303,\n",
        " 0.1312,\n",
        " 0.1313,\n",
        " 0.1312,\n",
        " 0.1313,\n",
        " 0.1318,\n",
        " 0.1328,\n",
        " 0.1333,\n",
        " 0.1328,\n",
        " 0.1326,\n",
        " 0.1323,\n",
        " 0.131,\n",
        " 0.1307,\n",
        " 0.1308,\n",
        " 0.1307,\n",
        " 0.1304,\n",
        " 0.1303,\n",
        " 0.1302,\n",
        " 0.1301,\n",
        " 0.1296,\n",
        " 0.1295,\n",
        " 0.1296,\n",
        " 0.1284,\n",
        " 0.1285,\n",
        " 0.1284,\n",
        " 0.1285,\n",
        " 0.1286,\n",
        " 0.1289,\n",
        " 0.129,\n",
        " 0.1289,\n",
        " 0.129,\n",
        " 0.1292,\n",
        " 0.1291,\n",
        " 0.1292,\n",
        " 0.1291,\n",
        " 0.1292,\n",
        " 0.129,\n",
        " 0.1291,\n",
        " 0.129,\n",
        " 0.1291,\n",
        " 0.129,\n",
        " 0.1291,\n",
        " 0.129,\n",
        " 0.1291,\n",
        " 0.129,\n",
        " 0.1291,\n",
        " 0.1288,\n",
        " 0.129,\n",
        " 0.1292,\n",
        " 0.129,\n",
        " 0.1287,\n",
        " 0.1285,\n",
        " 0.1286,\n",
        " 0.1287,\n",
        " 0.1288,\n",
        " 0.1289,\n",
        " 0.1291,\n",
        " 0.1297,\n",
        " 0.1296,\n",
        " 0.1294,\n",
        " 0.1293,\n",
        " 0.129,\n",
        " 0.1288,\n",
        " 0.1287,\n",
        " 0.1286,\n",
        " 0.1285,\n",
        " 0.1286,\n",
        " 0.1288,\n",
        " 0.1287,\n",
        " 0.1286,\n",
        " 0.1285,\n",
        " 0.1284,\n",
        " 0.1285,\n",
        " 0.1284,\n",
        " 0.1285,\n",
        " 0.1286,\n",
        " 0.1291,\n",
        " 0.1285,\n",
        " 0.1284,\n",
        " 0.1285,\n",
        " 0.1291,\n",
        " 0.1289,\n",
        " 0.129,\n",
        " 0.1285,\n",
        " 0.1291,\n",
        " 0.1292,\n",
        " 0.1296,\n",
        " 0.129,\n",
        " 0.1289,\n",
        " 0.1288,\n",
        " 0.1287,\n",
        " 0.129,\n",
        " 0.1291,\n",
        " 0.1298,\n",
        " 0.1293,\n",
        " 0.1291,\n",
        " 0.129,\n",
        " 0.1289,\n",
        " 0.1288,\n",
        " 0.1287,\n",
        " 0.1288,\n",
        " 0.1287,\n",
        " 0.1288,\n",
        " 0.1287,\n",
        " 0.1288,\n",
        " 0.1287]"
       ]
      }
     ],
     "prompt_number": 40
    },
    {
     "cell_type": "code",
     "collapsed": false,
     "input": [],
     "language": "python",
     "metadata": {},
     "outputs": [
      {
       "metadata": {},
       "output_type": "pyout",
       "prompt_number": 35,
       "text": [
        "u'2014-06-13T16:45:58.000Z'"
       ]
      }
     ],
     "prompt_number": 35
    },
    {
     "cell_type": "code",
     "collapsed": false,
     "input": [
      "ii = i.instances[0]"
     ],
     "language": "python",
     "metadata": {},
     "outputs": [],
     "prompt_number": 25
    },
    {
     "cell_type": "code",
     "collapsed": false,
     "input": [
      "ii.instance_type"
     ],
     "language": "python",
     "metadata": {},
     "outputs": [
      {
       "metadata": {},
       "output_type": "pyout",
       "prompt_number": 26,
       "text": [
        "u'm3.medium'"
       ]
      }
     ],
     "prompt_number": 26
    },
    {
     "cell_type": "code",
     "collapsed": false,
     "input": [],
     "language": "python",
     "metadata": {},
     "outputs": []
    }
   ],
   "metadata": {}
  }
 ]
}