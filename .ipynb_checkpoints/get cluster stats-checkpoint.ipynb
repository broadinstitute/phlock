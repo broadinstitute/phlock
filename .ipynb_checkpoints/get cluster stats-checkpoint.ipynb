{
 "metadata": {
  "name": ""
 },
 "nbformat": 3,
 "nbformat_minor": 0,
 "worksheets": [
  {
   "cells": [
    {
     "cell_type": "code",
     "collapsed": false,
     "input": [],
     "language": "python",
     "metadata": {},
     "outputs": [],
     "prompt_number": 37
    },
    {
     "cell_type": "code",
     "collapsed": false,
     "input": [
      "import boto\n",
      "import collections\n",
      "import ConfigParser, os\n",
      "import boto.ec2\n",
      "\n",
      "config = ConfigParser.ConfigParser()\n",
      "config.read(os.path.expanduser('~/.starcluster/config'))\n",
      "\n",
      "AWS_ACCESS_KEY_ID = config.get(\"aws info\", \"AWS_ACCESS_KEY_ID\")\n",
      "AWS_SECRET_ACCESS_KEY = config.get(\"aws info\", \"AWS_SECRET_ACCESS_KEY\")\n",
      "c = boto.ec2.connection.EC2Connection(aws_access_key_id=AWS_ACCESS_KEY_ID, aws_secret_access_key=AWS_SECRET_ACCESS_KEY)"
     ],
     "language": "python",
     "metadata": {},
     "outputs": [],
     "prompt_number": 27
    },
    {
     "cell_type": "code",
     "collapsed": false,
     "input": [],
     "language": "python",
     "metadata": {},
     "outputs": [],
     "prompt_number": 29
    },
    {
     "cell_type": "code",
     "collapsed": false,
     "input": [
      "# get prices\n",
      "import datetime\n",
      "end_time = datetime.datetime.now()\n",
      "start_time = end_time - datetime.timedelta(1)\n",
      "\n",
      "prices = c.get_spot_price_history(start_time=start_time.isoformat(), end_time=end_time.isoformat(), \n",
      "                         instance_type=\"c3.8xlarge\", product_description=\"Linux/UNIX\", \n",
      "                         availability_zone=\"us-east-1a\", max_results=None, next_token=None)\n",
      "print [ p.price for p in prices ]\n"
     ],
     "language": "python",
     "metadata": {},
     "outputs": [
      {
       "output_type": "stream",
       "stream": "stdout",
       "text": [
        "[0.2669, 0.2656, 0.265, 0.2634, 0.2677, 0.2684, 0.27, 0.269, 0.2699, 0.27, 0.2654, 0.2659, 0.2716, 0.27, 0.2694, 0.303, 0.2967, 0.2829, 0.2882, 0.2916, 0.284, 0.2798, 0.303, 0.2916, 0.2829, 0.2801, 0.2815, 0.2863, 0.2758, 0.2746, 0.2696, 0.2703, 0.2681, 0.2696, 0.2642, 0.2708, 0.2747, 0.2666, 0.2989, 0.2843, 0.2733, 0.2666, 0.2637, 0.2659, 0.2648, 0.2607, 0.2599, 0.2603, 0.2599, 0.2603, 0.2609, 0.2592, 0.2607, 0.2602, 0.2619, 0.2628, 0.2643, 0.2666, 0.268, 0.2666, 0.2637, 0.2653, 0.2659, 0.2673, 0.2806, 0.2871, 0.2831, 0.3046, 0.3953, 0.3117, 0.9707, 0.5241, 2.4001, 0.6849, 0.5, 0.6849, 0.9707, 0.5, 0.2973, 0.322, 0.5, 5.0, 2.4001, 0.3786, 5.0, 2.4001, 3.0, 1.2209, 0.399, 0.277, 0.27, 0.2674, 0.2638, 0.2635, 0.2638, 0.2625, 0.2613, 0.2615, 0.2616, 0.2613, 0.2617, 0.2614, 0.2618, 0.2624, 0.2622, 0.2616, 0.2611, 0.2621, 0.2623, 0.2619, 0.262, 0.2632, 0.2635, 0.2632, 0.2633, 0.2645, 0.2636, 0.2633, 0.2627, 0.2636, 0.2645, 0.2655, 0.2651, 0.2655, 0.2676, 0.2689, 0.2655, 0.2649, 0.266, 0.2655, 0.266, 0.2665, 0.2667, 0.2655, 0.27, 0.269, 0.2659, 0.2648, 0.2651, 0.2644, 0.2643, 0.2648, 0.2649, 0.262, 0.2618, 0.2627, 0.262, 0.2624, 0.2625, 0.263, 0.259, 0.2594, 0.2597, 0.2603, 0.2599, 0.2601, 0.2597, 0.2596, 0.2597, 0.2599, 0.2598, 0.2599, 0.2607, 0.2606, 0.2602, 0.2599, 0.2595, 0.2597, 0.2595, 0.2593, 0.2595, 0.2596, 0.2603, 0.2601, 0.2595, 0.2597, 0.2598, 0.2603, 0.2605, 0.261, 0.2607, 0.2611, 0.2604, 0.2601, 0.2604, 0.2599, 0.26, 0.2599, 0.2603, 0.2601, 0.2614, 0.2589, 0.2596, 0.259, 0.2586, 0.2591, 0.2586, 0.2584, 0.2582, 0.2583, 0.2582, 0.258, 0.2581, 0.258, 0.2579, 0.2582, 0.2586, 0.258, 0.2583, 0.2585, 0.2587, 0.2583, 0.2579, 0.2578, 0.2577, 0.2575, 0.3262, 0.3127, 1.2209, 0.726, 0.8408, 0.66, 0.5623, 0.5, 0.399, 0.4253, 0.5, 0.5623, 0.5705, 3.0, 0.8814, 0.5, 0.5241, 0.5946, 0.5241, 0.6, 0.3813, 0.347, 0.34, 0.3571, 0.3245]\n"
       ]
      }
     ],
     "prompt_number": 41
    },
    {
     "cell_type": "code",
     "collapsed": false,
     "input": [
      "instances = c.get_only_instances()\n",
      "counts = collections.defaultdict(lambda: 0)\n",
      "for i in instances:\n",
      "    counts[i.instance_type] += 1\n",
      "\n",
      "print counts"
     ],
     "language": "python",
     "metadata": {},
     "outputs": [
      {
       "output_type": "stream",
       "stream": "stdout",
       "text": [
        "defaultdict(<function <lambda> at 0x10637fde8>, {u'm3.medium': 1})\n"
       ]
      }
     ],
     "prompt_number": 39
    },
    {
     "cell_type": "code",
     "collapsed": false,
     "input": [
      "i = instances[0]\n",
      "all_instances = []\n",
      "x.instances\n",
      "print [len(x.instances) for x in instances]"
     ],
     "language": "python",
     "metadata": {},
     "outputs": [
      {
       "output_type": "stream",
       "stream": "stdout",
       "text": [
        "[1]\n"
       ]
      }
     ],
     "prompt_number": 21
    },
    {
     "cell_type": "code",
     "collapsed": false,
     "input": [],
     "language": "python",
     "metadata": {},
     "outputs": [
      {
       "metadata": {},
       "output_type": "pyout",
       "prompt_number": 40,
       "text": [
        "[0.1309,\n",
        " 0.1298,\n",
        " 0.1299,\n",
        " 0.1305,\n",
        " 0.1303,\n",
        " 0.1312,\n",
        " 0.1313,\n",
        " 0.1312,\n",
        " 0.1313,\n",
        " 0.1318,\n",
        " 0.1328,\n",
        " 0.1333,\n",
        " 0.1328,\n",
        " 0.1326,\n",
        " 0.1323,\n",
        " 0.131,\n",
        " 0.1307,\n",
        " 0.1308,\n",
        " 0.1307,\n",
        " 0.1304,\n",
        " 0.1303,\n",
        " 0.1302,\n",
        " 0.1301,\n",
        " 0.1296,\n",
        " 0.1295,\n",
        " 0.1296,\n",
        " 0.1284,\n",
        " 0.1285,\n",
        " 0.1284,\n",
        " 0.1285,\n",
        " 0.1286,\n",
        " 0.1289,\n",
        " 0.129,\n",
        " 0.1289,\n",
        " 0.129,\n",
        " 0.1292,\n",
        " 0.1291,\n",
        " 0.1292,\n",
        " 0.1291,\n",
        " 0.1292,\n",
        " 0.129,\n",
        " 0.1291,\n",
        " 0.129,\n",
        " 0.1291,\n",
        " 0.129,\n",
        " 0.1291,\n",
        " 0.129,\n",
        " 0.1291,\n",
        " 0.129,\n",
        " 0.1291,\n",
        " 0.1288,\n",
        " 0.129,\n",
        " 0.1292,\n",
        " 0.129,\n",
        " 0.1287,\n",
        " 0.1285,\n",
        " 0.1286,\n",
        " 0.1287,\n",
        " 0.1288,\n",
        " 0.1289,\n",
        " 0.1291,\n",
        " 0.1297,\n",
        " 0.1296,\n",
        " 0.1294,\n",
        " 0.1293,\n",
        " 0.129,\n",
        " 0.1288,\n",
        " 0.1287,\n",
        " 0.1286,\n",
        " 0.1285,\n",
        " 0.1286,\n",
        " 0.1288,\n",
        " 0.1287,\n",
        " 0.1286,\n",
        " 0.1285,\n",
        " 0.1284,\n",
        " 0.1285,\n",
        " 0.1284,\n",
        " 0.1285,\n",
        " 0.1286,\n",
        " 0.1291,\n",
        " 0.1285,\n",
        " 0.1284,\n",
        " 0.1285,\n",
        " 0.1291,\n",
        " 0.1289,\n",
        " 0.129,\n",
        " 0.1285,\n",
        " 0.1291,\n",
        " 0.1292,\n",
        " 0.1296,\n",
        " 0.129,\n",
        " 0.1289,\n",
        " 0.1288,\n",
        " 0.1287,\n",
        " 0.129,\n",
        " 0.1291,\n",
        " 0.1298,\n",
        " 0.1293,\n",
        " 0.1291,\n",
        " 0.129,\n",
        " 0.1289,\n",
        " 0.1288,\n",
        " 0.1287,\n",
        " 0.1288,\n",
        " 0.1287,\n",
        " 0.1288,\n",
        " 0.1287,\n",
        " 0.1288,\n",
        " 0.1287]"
       ]
      }
     ],
     "prompt_number": 40
    },
    {
     "cell_type": "code",
     "collapsed": false,
     "input": [
      "p.timestamp"
     ],
     "language": "python",
     "metadata": {},
     "outputs": [
      {
       "metadata": {},
       "output_type": "pyout",
       "prompt_number": 35,
       "text": [
        "u'2014-06-13T16:45:58.000Z'"
       ]
      }
     ],
     "prompt_number": 35
    },
    {
     "cell_type": "code",
     "collapsed": false,
     "input": [
      "ii = i.instances[0]"
     ],
     "language": "python",
     "metadata": {},
     "outputs": [],
     "prompt_number": 25
    },
    {
     "cell_type": "code",
     "collapsed": false,
     "input": [
      "ii.instance_type"
     ],
     "language": "python",
     "metadata": {},
     "outputs": [
      {
       "metadata": {},
       "output_type": "pyout",
       "prompt_number": 26,
       "text": [
        "u'm3.medium'"
       ]
      }
     ],
     "prompt_number": 26
    },
    {
     "cell_type": "code",
     "collapsed": false,
     "input": [],
     "language": "python",
     "metadata": {},
     "outputs": []
    }
   ],
   "metadata": {}
  }
 ]
}