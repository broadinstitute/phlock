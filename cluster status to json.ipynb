{
 "metadata": {
  "name": ""
 },
 "nbformat": 3,
 "nbformat_minor": 0,
 "worksheets": [
  {
   "cells": [
    {
     "cell_type": "code",
     "collapsed": false,
     "input": [
      "import xml.etree.ElementTree as ET\n",
      "import collections\n",
      "import json\n",
      "import subprocess\n"
     ],
     "language": "python",
     "metadata": {},
     "outputs": [],
     "prompt_number": 14
    },
    {
     "cell_type": "code",
     "collapsed": false,
     "input": [
      "host_count = collections.defaultdict(lambda:0)\n",
      "tree = ET.parse('qstat.sample')\n",
      "job_lists = tree.findall(\"queue_info/job_list\")\n",
      "running_count = 0\n",
      "waiting_count = 0\n",
      "for job_list in job_lists:\n",
      "    queue_name = job_list.find(\"queue_name\").text\n",
      "    queue, host = queue_name.split(\"@\")\n",
      "    if j.attrib['state'] == 'running':\n",
      "        host_count[host] += 1\n",
      "        running_count += 1\n",
      "    else:\n",
      "        waiting_count += 1"
     ],
     "language": "python",
     "metadata": {},
     "outputs": [],
     "prompt_number": 15
    },
    {
     "cell_type": "code",
     "collapsed": false,
     "input": [
      "recs = []\n",
      "\n",
      "suffixes = {'M':1e6, 'K':1e3, 'G':1e9}\n",
      "def as_int(x):\n",
      "    if x == \"-\":\n",
      "        return None\n",
      "    last_char = x[-1]\n",
      "    multiplier = 1\n",
      "    if last_char in suffixes.keys():\n",
      "        x = x[:-1]\n",
      "        multiplier = suffixes[last_char]\n",
      "    return int(float(x)*multiplier)\n",
      "\n",
      "def as_float(x):\n",
      "    if x == \"-\":\n",
      "        return None\n",
      "    return float(x)\n",
      "\n",
      "tree = ET.parse('qhost.sample')\n",
      "for host in tree.findall(\"host\"):\n",
      "    host_name = host.attrib[\"name\"]\n",
      "    if host_name == \"global\":\n",
      "        continue\n",
      "\n",
      "    kv = dict([(n.attrib[\"name\"], n.text) for n in host.findall(\"hostvalue\")])\n",
      "\n",
      "    recs.append( dict(num_proc=as_int(kv['num_proc']),\n",
      "                      load_avg=as_float(kv['load_avg']),\n",
      "                      mem_total=as_int(kv['mem_total']),\n",
      "                      mem_used=as_int(kv['mem_used']),\n",
      "                      swap_total=as_int(kv['swap_total']),\n",
      "                      swap_used=as_int(kv['swap_used']),\n",
      "                      name=host_name,\n",
      "                      running_jobs=host_count[host_name]))\n",
      "\n",
      "print json.dumps(dict(running_count=running_count, waiting_count=waiting_count, hosts=recs))"
     ],
     "language": "python",
     "metadata": {},
     "outputs": [
      {
       "output_type": "stream",
       "stream": "stdout",
       "text": [
        "{\"waiting_count\": 0, \"running_count\": 221, \"hosts\": [{\"swap_used\": 0, \"name\": \"master\", \"swap_total\": 0, \"num_proc\": 1, \"running_jobs\": 0, \"mem_used\": 330800000, \"mem_total\": 3700000000, \"load_avg\": 0.01}, {\"swap_used\": 0, \"name\": \"node001\", \"swap_total\": 0, \"num_proc\": 16, \"running_jobs\": 13, \"mem_used\": 89600000000, \"mem_total\": 119800000000, \"load_avg\": 12.99}, {\"swap_used\": 0, \"name\": \"node002\", \"swap_total\": 0, \"num_proc\": 16, \"running_jobs\": 13, \"mem_used\": 79900000000, \"mem_total\": 119800000000, \"load_avg\": 12.97}, {\"swap_used\": 0, \"name\": \"node003\", \"swap_total\": 0, \"num_proc\": 16, \"running_jobs\": 13, \"mem_used\": 88100000000, \"mem_total\": 119800000000, \"load_avg\": 13.03}, {\"swap_used\": 0, \"name\": \"node004\", \"swap_total\": 0, \"num_proc\": 16, \"running_jobs\": 12, \"mem_used\": 92000000000, \"mem_total\": 119800000000, \"load_avg\": 13.04}, {\"swap_used\": 0, \"name\": \"node005\", \"swap_total\": 0, \"num_proc\": 16, \"running_jobs\": 13, \"mem_used\": 77900000000, \"mem_total\": 119800000000, \"load_avg\": 12.95}, {\"swap_used\": 0, \"name\": \"node006\", \"swap_total\": 0, \"num_proc\": 16, \"running_jobs\": 13, \"mem_used\": 86900000000, \"mem_total\": 119800000000, \"load_avg\": 13.1}, {\"swap_used\": 0, \"name\": \"node007\", \"swap_total\": 0, \"num_proc\": 16, \"running_jobs\": 13, \"mem_used\": 81100000000, \"mem_total\": 119800000000, \"load_avg\": 13.02}, {\"swap_used\": 0, \"name\": \"node008\", \"swap_total\": 0, \"num_proc\": 16, \"running_jobs\": 13, \"mem_used\": 89100000000, \"mem_total\": 119800000000, \"load_avg\": 13.01}, {\"swap_used\": 0, \"name\": \"node009\", \"swap_total\": 0, \"num_proc\": 16, \"running_jobs\": 14, \"mem_used\": 93000000000, \"mem_total\": 119800000000, \"load_avg\": 14.04}, {\"swap_used\": 0, \"name\": \"node010\", \"swap_total\": 0, \"num_proc\": 16, \"running_jobs\": 13, \"mem_used\": 87700000000, \"mem_total\": 119800000000, \"load_avg\": 13.35}, {\"swap_used\": 0, \"name\": \"node011\", \"swap_total\": 0, \"num_proc\": 16, \"running_jobs\": 13, \"mem_used\": 87600000000, \"mem_total\": 119800000000, \"load_avg\": 13.01}, {\"swap_used\": 0, \"name\": \"node012\", \"swap_total\": 0, \"num_proc\": 16, \"running_jobs\": 13, \"mem_used\": 83300000000, \"mem_total\": 119800000000, \"load_avg\": 12.98}, {\"swap_used\": 0, \"name\": \"node013\", \"swap_total\": 0, \"num_proc\": 16, \"running_jobs\": 13, \"mem_used\": 83500000000, \"mem_total\": 119800000000, \"load_avg\": 12.97}, {\"swap_used\": 0, \"name\": \"node014\", \"swap_total\": 0, \"num_proc\": 16, \"running_jobs\": 13, \"mem_used\": 87600000000, \"mem_total\": 119800000000, \"load_avg\": 13.01}, {\"swap_used\": 0, \"name\": \"node015\", \"swap_total\": 0, \"num_proc\": 16, \"running_jobs\": 13, \"mem_used\": 88200000000, \"mem_total\": 119800000000, \"load_avg\": 13.01}, {\"swap_used\": 0, \"name\": \"node016\", \"swap_total\": 0, \"num_proc\": 16, \"running_jobs\": 13, \"mem_used\": 89400000000, \"mem_total\": 119800000000, \"load_avg\": 13.01}, {\"swap_used\": 0, \"name\": \"node017\", \"swap_total\": 0, \"num_proc\": 16, \"running_jobs\": 13, \"mem_used\": 87100000000, \"mem_total\": 119800000000, \"load_avg\": 14.21}]}\n"
       ]
      }
     ],
     "prompt_number": 16
    },
    {
     "cell_type": "code",
     "collapsed": false,
     "input": [],
     "language": "python",
     "metadata": {},
     "outputs": []
    }
   ],
   "metadata": {}
  }
 ]
}